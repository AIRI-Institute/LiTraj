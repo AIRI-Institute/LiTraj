{
 "cells": [
  {
   "cell_type": "code",
   "execution_count": null,
   "metadata": {},
   "outputs": [],
   "source": [
    "# install package\n",
    "!pip install ions"
   ]
  },
  {
   "cell_type": "code",
   "execution_count": 1,
   "metadata": {},
   "outputs": [
    {
     "data": {
      "text/plain": [
       "Atoms(symbols='Li12P4O16', pbc=True, cell=[4.8926448, 6.07079561, 10.41629663], spacegroup_kinds=...)"
      ]
     },
     "execution_count": 1,
     "metadata": {},
     "output_type": "execute_result"
    }
   ],
   "source": [
    "import io\n",
    "from ase.io import read\n",
    "\n",
    "# create string of the .cif file\n",
    "cif = \"\"\"\n",
    "# generated using pymatgen\n",
    "data_Li3PO4\n",
    "_symmetry_space_group_name_H-M   'P 1'\n",
    "_cell_length_a   4.89264480\n",
    "_cell_length_b   6.07079561\n",
    "_cell_length_c   10.41629663\n",
    "_cell_angle_alpha   90.00000000\n",
    "_cell_angle_beta   90.00000000\n",
    "_cell_angle_gamma   90.00000000\n",
    "_symmetry_Int_Tables_number   1\n",
    "_chemical_formula_structural   Li3PO4\n",
    "_chemical_formula_sum   'Li12 P4 O16'\n",
    "_cell_volume   309.38741088\n",
    "_cell_formula_units_Z   4\n",
    "loop_\n",
    " _symmetry_equiv_pos_site_id\n",
    " _symmetry_equiv_pos_as_xyz\n",
    "  1  'x, y, z'\n",
    "loop_\n",
    " _atom_type_symbol\n",
    " _atom_type_oxidation_number\n",
    "  Li+  1.0\n",
    "  P5+  5.0\n",
    "  O2-  -2.0\n",
    "loop_\n",
    " _atom_site_type_symbol\n",
    " _atom_site_label\n",
    " _atom_site_symmetry_multiplicity\n",
    " _atom_site_fract_x\n",
    " _atom_site_fract_y\n",
    " _atom_site_fract_z\n",
    " _atom_site_occupancy\n",
    "  Li+  Li0  1  0.69534509  0.49846062  0.83568861  1\n",
    "  Li+  Li1  1  0.19534509  0.50153938  0.66431139  1\n",
    "  Li+  Li2  1  0.30465491  0.99846062  0.16431139  1\n",
    "  Li+  Li3  1  0.80465491  0.00153938  0.33568861  1\n",
    "  Li+  Li4  1  0.30465491  0.50153938  0.16431139  1\n",
    "  Li+  Li5  1  0.80465491  0.49846062  0.33568861  1\n",
    "  Li+  Li6  1  0.69534509  0.00153938  0.83568861  1\n",
    "  Li+  Li7  1  0.19534509  0.99846062  0.66431139  1\n",
    "  Li+  Li8  1  0.79721728  0.25000000  0.57624687  1\n",
    "  Li+  Li9  1  0.29721728  0.75000000  0.92375313  1\n",
    "  Li+  Li10  1  0.20278272  0.75000000  0.42375313  1\n",
    "  Li+  Li11  1  0.70278272  0.25000000  0.07624687  1\n",
    "  P5+  P12  1  0.69067243  0.75000000  0.58814555  1\n",
    "  P5+  P13  1  0.80932757  0.75000000  0.08814555  1\n",
    "  P5+  P14  1  0.30932757  0.25000000  0.41185445  1\n",
    "  P5+  P15  1  0.19067243  0.25000000  0.91185445  1\n",
    "  O2-  O16  1  0.62473411  0.25000000  0.41081835  1\n",
    "  O2-  O17  1  0.79434655  0.95731182  0.65858046  1\n",
    "  O2-  O18  1  0.12473411  0.75000000  0.08918165  1\n",
    "  O2-  O19  1  0.37526589  0.75000000  0.58918165  1\n",
    "  O2-  O20  1  0.79434655  0.54268818  0.65858046  1\n",
    "  O2-  O21  1  0.29434655  0.04268818  0.84141954  1\n",
    "  O2-  O22  1  0.20565345  0.45731182  0.34141954  1\n",
    "  O2-  O23  1  0.70565345  0.54268818  0.15858046  1\n",
    "  O2-  O24  1  0.20565345  0.04268818  0.34141954  1\n",
    "  O2-  O25  1  0.70565345  0.95731182  0.15858046  1\n",
    "  O2-  O26  1  0.79484118  0.75000000  0.44883378  1\n",
    "  O2-  O27  1  0.29434655  0.45731182  0.84141954  1\n",
    "  O2-  O28  1  0.70515882  0.75000000  0.94883378  1\n",
    "  O2-  O29  1  0.20515882  0.25000000  0.55116622  1\n",
    "  O2-  O30  1  0.29484118  0.25000000  0.05116622  1\n",
    "  O2-  O31  1  0.87526589  0.25000000  0.91081835  1\n",
    "\"\"\"\n",
    "\n",
    "# read structure\n",
    "atoms = read(io.StringIO(cif), format = 'cif')\n",
    "atoms"
   ]
  },
  {
   "cell_type": "code",
   "execution_count": null,
   "metadata": {},
   "outputs": [],
   "source": [
    "from ions import Decorator \n",
    "from ions.tools import Percolator\n",
    "from ions.utils import collect_bvse_params"
   ]
  },
  {
   "cell_type": "code",
   "execution_count": 20,
   "metadata": {},
   "outputs": [],
   "source": [
    "# decorate atoms with oxidation states\n",
    "# it is highly recommended to use pymatgen's BVAnalyzer in case of large number of structures, the ion's Decorator is too slow.\n",
    "atoms = Decorator().decorate(atoms) \n",
    "atoms = collect_bvse_params(atoms, 'Li', 1) # Li in +1 oxidation state"
   ]
  },
  {
   "cell_type": "code",
   "execution_count": null,
   "metadata": {},
   "outputs": [],
   "source": [
    "specie = 3           # Li\n",
    "upper_bound = 8.0    # in angstrom\n",
    "\n",
    "pl = Percolator(atoms, specie, upper_bound)"
   ]
  },
  {
   "cell_type": "code",
   "execution_count": 21,
   "metadata": {},
   "outputs": [
    {
     "name": "stdout",
     "output_type": "stream",
     "text": [
      "For 3D percolation a cutoff of 3.03125 Å is sufficient\n"
     ]
    }
   ],
   "source": [
    "tr = 0.5             # min allowed edge to framework  distance in Å\n",
    "cutoff, dim =  pl.mincut_maxdim(tr = tr)\n",
    "print(f'For {dim}D percolation a cutoff of {cutoff} Å is sufficient')"
   ]
  },
  {
   "cell_type": "code",
   "execution_count": 22,
   "metadata": {},
   "outputs": [],
   "source": [
    "# unique Li-ion jumps forming 3D percolation network\n",
    "edges, _ = pl.unique_edges(cutoff, tr)"
   ]
  },
  {
   "cell_type": "code",
   "execution_count": 19,
   "metadata": {},
   "outputs": [
    {
     "name": "stdout",
     "output_type": "stream",
     "text": [
      "edge_id-0 fmax: 0.076 eV/Angstrom\n",
      " Barrier:  0.293 eV\n",
      "\n",
      "\n",
      "edge_id-1 fmax: 0.072 eV/Angstrom\n",
      " Barrier:  0.432 eV\n",
      "\n",
      "\n",
      "edge_id-2 fmax: 0.077 eV/Angstrom\n",
      " Barrier:  0.391 eV\n",
      "\n",
      "\n",
      "edge_id-3 fmax: 0.087 eV/Angstrom\n",
      " Barrier:  0.508 eV\n",
      "\n",
      "\n"
     ]
    }
   ],
   "source": [
    "from ions.tools import SaddleFinder\n",
    "from ase.optimize import FIRE\n",
    "\n",
    "for i, edge in enumerate(edges):\n",
    "\n",
    "    # initial trajectory\n",
    "    images = edge.superedge(upper_bound).interpolate(n_images = 5)\n",
    "     \n",
    "    # create ASE's NEB optimizable\n",
    "    sf = SaddleFinder()\n",
    "    neb = sf.bvse_neb(images)\n",
    "\n",
    "    # define optimizer\n",
    "    optim = FIRE(neb, logfile=None)\n",
    "\n",
    "    # optimize trajectory \n",
    "    optim.run(fmax=0.1, steps=100)\n",
    "\n",
    "    # get max force and a migration barrier\n",
    "    max_force = abs(neb.get_forces()).max()\n",
    "    print(f'edge_id-{i}', 'fmax:', round(max_force, 3),\n",
    "           'eV/Angstrom\\n', 'Barrier: ', round(sf.get_barrier(images), 3), 'eV\\n\\n')"
   ]
  }
 ],
 "metadata": {
  "kernelspec": {
   "display_name": "base",
   "language": "python",
   "name": "python3"
  },
  "language_info": {
   "codemirror_mode": {
    "name": "ipython",
    "version": 3
   },
   "file_extension": ".py",
   "mimetype": "text/x-python",
   "name": "python",
   "nbconvert_exporter": "python",
   "pygments_lexer": "ipython3",
   "version": "3.8.8"
  }
 },
 "nbformat": 4,
 "nbformat_minor": 2
}
