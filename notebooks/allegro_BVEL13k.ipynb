{
 "cells": [
  {
   "cell_type": "code",
   "execution_count": null,
   "id": "57df6d5d",
   "metadata": {},
   "outputs": [],
   "source": [
    "import torch\n",
    "from tqdm import tqdm\n",
    "from nequip.utils.config import Config\n",
    "from nequip.data import dataset_from_config, DataLoader, AtomicData\n",
    "from litraj.data import download_dataset"
   ]
  },
  {
   "cell_type": "code",
   "execution_count": null,
   "id": "b86e114b-83a7-43c6-ab30-a5516005704a",
   "metadata": {},
   "outputs": [],
   "source": [
    "!mkdir data"
   ]
  },
  {
   "cell_type": "code",
   "execution_count": null,
   "id": "68c200f8-18cf-4c07-b6b2-5991ad72b44f",
   "metadata": {},
   "outputs": [],
   "source": [
    "download_dataset('BVEL13k', 'data') # download the dataset to ./data folder"
   ]
  },
  {
   "cell_type": "code",
   "execution_count": 26,
   "id": "6f5f5b85-9f6e-4e96-afd1-130cf6c10138",
   "metadata": {},
   "outputs": [],
   "source": [
    "config = Config.from_file('../configs/allegro_BVEL13k_E3D.yaml')\n",
    "config['dataset_file_name'] = './data/BVEL13k/BVEL13k_train.xyz'\n",
    "config['validation_dataset_file_name'] = './data/BVEL13k/BVEL13k_val.xyz'"
   ]
  },
  {
   "cell_type": "code",
   "execution_count": 27,
   "id": "ef9f3e8a-2e86-4cd8-9866-3738aca58aba",
   "metadata": {},
   "outputs": [],
   "source": [
    "config['wandb'] = False              # set to True to use wandb\n",
    "config['wandb_entity'] = 'your_entity'\n",
    "config['wandb_project'] = 'your_project'"
   ]
  },
  {
   "cell_type": "code",
   "execution_count": null,
   "id": "99781847-10e9-4eb0-8c39-8e61a7373838",
   "metadata": {},
   "outputs": [],
   "source": [
    "config.save('config.yaml')"
   ]
  },
  {
   "cell_type": "code",
   "execution_count": null,
   "id": "7e92b19f-c5f6-4bd2-83c2-1773d6d25360",
   "metadata": {},
   "outputs": [],
   "source": [
    "!nequip-train config.yaml"
   ]
  },
  {
   "cell_type": "code",
   "execution_count": null,
   "id": "a2df251a-2b4b-4856-9471-e15caed0c701",
   "metadata": {},
   "outputs": [],
   "source": [
    "# deploy"
   ]
  },
  {
   "cell_type": "code",
   "execution_count": null,
   "id": "88254adf-52a4-448b-ab10-14ba68033bc4",
   "metadata": {},
   "outputs": [],
   "source": [
    "!nequip-deploy build --train-dir allegro_BVEL13k_e3d_rmax_7_lr_005_reproduce best_model.pt"
   ]
  },
  {
   "cell_type": "code",
   "execution_count": null,
   "id": "6bfbc060-5ac7-4ed8-be17-f01df8621102",
   "metadata": {},
   "outputs": [],
   "source": [
    "model_path = 'best_model.pt'\n",
    "model = torch.jit.load(model_path)"
   ]
  },
  {
   "cell_type": "code",
   "execution_count": null,
   "id": "4582e037-9042-4c5e-9737-82ca5b2f4232",
   "metadata": {},
   "outputs": [],
   "source": [
    "config['dataset_file_name'] = './data/BVEL13k/BVEL13k_test.xyz'\n",
    "dataset = dataset_from_config(config, prefix=\"dataset\")"
   ]
  },
  {
   "cell_type": "code",
   "execution_count": null,
   "id": "0efea433-f44a-47f4-91c5-d98d401b78bb",
   "metadata": {},
   "outputs": [],
   "source": [
    "device = torch.device('cuda' if torch.cuda.is_available() else 'cpu')\n",
    "model.to(device)\n",
    "\n",
    "dataloader = DataLoader(\n",
    "        dataset=dataset,\n",
    "        shuffle=False,\n",
    "        batch_size=1)\n",
    "\n",
    "preds = torch.tensor([])\n",
    "targets = torch.tensor([])\n",
    "nsites = torch.tensor([]) # we were training on E_3D_x_nsites\n",
    "\n",
    "with torch.no_grad():\n",
    "    model.eval()\n",
    "    for batch in tqdm(dataloader):\n",
    "        batch.to(device)\n",
    "        data = AtomicData.to_AtomicDataDict(batch)\n",
    "        result = model(data)\n",
    "        preds = torch.cat((preds, result['total_energy'].detach().cpu()))\n",
    "        targets = torch.cat((targets, data['total_energy'].detach().cpu()))\n",
    "        nsites = torch.cat((nsites, torch.tensor([data['pos'].shape[0]])))\n",
    "        \n",
    "targets = (targets.squeeze() / nsites).numpy() # convert to E_3D\n",
    "preds = (preds.squeeze() / nsites).numpy()     # convert to E_3D"
   ]
  },
  {
   "cell_type": "code",
   "execution_count": null,
   "id": "45d0cda3-9e6b-457a-990e-a0fc05ae4183",
   "metadata": {},
   "outputs": [],
   "source": [
    "import matplotlib.pyplot as plt\n",
    "\n",
    "plt.figure(dpi = 200, figsize = (3, 3))\n",
    "plt.plot(targets, targets, color = 'k', linewidth = 0.75, zorder = -1)\n",
    "plt.scatter(targets, preds, s = 10, alpha = 0.5)\n",
    "plt.xlabel('$E_a^{3D}$(BVEL), eV')\n",
    "plt.ylabel('$E_a^{3D}$(Allegro), eV')\n",
    "plt.tight_layout()"
   ]
  },
  {
   "cell_type": "code",
   "execution_count": null,
   "id": "9c9c0c54-c9ad-4020-8154-b62d15456a89",
   "metadata": {},
   "outputs": [],
   "source": [
    "from litraj.metrics import get_metrics\n",
    "\n",
    "get_metrics(targets, preds)"
   ]
  }
 ],
 "metadata": {
  "kernelspec": {
   "display_name": "base",
   "language": "python",
   "name": "python3"
  },
  "language_info": {
   "codemirror_mode": {
    "name": "ipython",
    "version": 3
   },
   "file_extension": ".py",
   "mimetype": "text/x-python",
   "name": "python",
   "nbconvert_exporter": "python",
   "pygments_lexer": "ipython3",
   "version": "3.8.8"
  }
 },
 "nbformat": 4,
 "nbformat_minor": 5
}
