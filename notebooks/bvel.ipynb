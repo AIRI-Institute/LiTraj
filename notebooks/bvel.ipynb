{
 "cells": [
  {
   "cell_type": "code",
   "execution_count": null,
   "metadata": {},
   "outputs": [],
   "source": [
    "# install package\n",
    "!pip install bvlain"
   ]
  },
  {
   "cell_type": "code",
   "execution_count": 1,
   "metadata": {},
   "outputs": [
    {
     "data": {
      "text/plain": [
       "Atoms(symbols='Li12P4O16', pbc=True, cell=[4.8926448, 6.07079561, 10.41629663], spacegroup_kinds=...)"
      ]
     },
     "execution_count": 1,
     "metadata": {},
     "output_type": "execute_result"
    }
   ],
   "source": [
    "import io\n",
    "from ase.io import read\n",
    "\n",
    "# create string of the .cif file\n",
    "cif = \"\"\"\n",
    "# generated using pymatgen\n",
    "data_Li3PO4\n",
    "_symmetry_space_group_name_H-M   'P 1'\n",
    "_cell_length_a   4.89264480\n",
    "_cell_length_b   6.07079561\n",
    "_cell_length_c   10.41629663\n",
    "_cell_angle_alpha   90.00000000\n",
    "_cell_angle_beta   90.00000000\n",
    "_cell_angle_gamma   90.00000000\n",
    "_symmetry_Int_Tables_number   1\n",
    "_chemical_formula_structural   Li3PO4\n",
    "_chemical_formula_sum   'Li12 P4 O16'\n",
    "_cell_volume   309.38741088\n",
    "_cell_formula_units_Z   4\n",
    "loop_\n",
    " _symmetry_equiv_pos_site_id\n",
    " _symmetry_equiv_pos_as_xyz\n",
    "  1  'x, y, z'\n",
    "loop_\n",
    " _atom_type_symbol\n",
    " _atom_type_oxidation_number\n",
    "  Li+  1.0\n",
    "  P5+  5.0\n",
    "  O2-  -2.0\n",
    "loop_\n",
    " _atom_site_type_symbol\n",
    " _atom_site_label\n",
    " _atom_site_symmetry_multiplicity\n",
    " _atom_site_fract_x\n",
    " _atom_site_fract_y\n",
    " _atom_site_fract_z\n",
    " _atom_site_occupancy\n",
    "  Li+  Li0  1  0.69534509  0.49846062  0.83568861  1\n",
    "  Li+  Li1  1  0.19534509  0.50153938  0.66431139  1\n",
    "  Li+  Li2  1  0.30465491  0.99846062  0.16431139  1\n",
    "  Li+  Li3  1  0.80465491  0.00153938  0.33568861  1\n",
    "  Li+  Li4  1  0.30465491  0.50153938  0.16431139  1\n",
    "  Li+  Li5  1  0.80465491  0.49846062  0.33568861  1\n",
    "  Li+  Li6  1  0.69534509  0.00153938  0.83568861  1\n",
    "  Li+  Li7  1  0.19534509  0.99846062  0.66431139  1\n",
    "  Li+  Li8  1  0.79721728  0.25000000  0.57624687  1\n",
    "  Li+  Li9  1  0.29721728  0.75000000  0.92375313  1\n",
    "  Li+  Li10  1  0.20278272  0.75000000  0.42375313  1\n",
    "  Li+  Li11  1  0.70278272  0.25000000  0.07624687  1\n",
    "  P5+  P12  1  0.69067243  0.75000000  0.58814555  1\n",
    "  P5+  P13  1  0.80932757  0.75000000  0.08814555  1\n",
    "  P5+  P14  1  0.30932757  0.25000000  0.41185445  1\n",
    "  P5+  P15  1  0.19067243  0.25000000  0.91185445  1\n",
    "  O2-  O16  1  0.62473411  0.25000000  0.41081835  1\n",
    "  O2-  O17  1  0.79434655  0.95731182  0.65858046  1\n",
    "  O2-  O18  1  0.12473411  0.75000000  0.08918165  1\n",
    "  O2-  O19  1  0.37526589  0.75000000  0.58918165  1\n",
    "  O2-  O20  1  0.79434655  0.54268818  0.65858046  1\n",
    "  O2-  O21  1  0.29434655  0.04268818  0.84141954  1\n",
    "  O2-  O22  1  0.20565345  0.45731182  0.34141954  1\n",
    "  O2-  O23  1  0.70565345  0.54268818  0.15858046  1\n",
    "  O2-  O24  1  0.20565345  0.04268818  0.34141954  1\n",
    "  O2-  O25  1  0.70565345  0.95731182  0.15858046  1\n",
    "  O2-  O26  1  0.79484118  0.75000000  0.44883378  1\n",
    "  O2-  O27  1  0.29434655  0.45731182  0.84141954  1\n",
    "  O2-  O28  1  0.70515882  0.75000000  0.94883378  1\n",
    "  O2-  O29  1  0.20515882  0.25000000  0.55116622  1\n",
    "  O2-  O30  1  0.29484118  0.25000000  0.05116622  1\n",
    "  O2-  O31  1  0.87526589  0.25000000  0.91081835  1\n",
    "\"\"\"\n",
    "\n",
    "# read structure\n",
    "atoms = read(io.StringIO(cif), format = 'cif')\n",
    "atoms"
   ]
  },
  {
   "cell_type": "code",
   "execution_count": 3,
   "metadata": {},
   "outputs": [
    {
     "name": "stdout",
     "output_type": "stream",
     "text": [
      "getting BVSE distribution...\n",
      "\tcollecting force field parameters... Li | charge: 1.0\n",
      "\tcollecting neighbors...\n",
      "distribution is ready\n",
      "\n",
      "{'E_1D': 0.4785, 'E_2D': 0.4785, 'E_3D': 0.8008}\n"
     ]
    }
   ],
   "source": [
    "# BVEL calculations\n",
    "\n",
    "from bvlain import Lain\n",
    "\n",
    "calc = Lain()\n",
    "params = {\n",
    "        'mobile_ion': 'Li1+', # mobile ion\n",
    "        'resolution': 0.2,    # grid points spacing in angstroms\n",
    "        'r_cut': 10.0,        # cutoff radius\n",
    "        'k': 200              # number of neighbors to consider       \n",
    "}\n",
    "\n",
    "calc = Lain(verbose = True)\n",
    "calc.read_atoms(atoms)\n",
    "_ = calc.bvse_distribution(**params)\n",
    "barriers = calc.percolation_barriers()\n",
    "print(barriers)"
   ]
  },
  {
   "cell_type": "code",
   "execution_count": null,
   "metadata": {},
   "outputs": [],
   "source": [
    "# update atoms' info\n",
    "atoms.info.update(barriers)"
   ]
  },
  {
   "cell_type": "code",
   "execution_count": null,
   "metadata": {},
   "outputs": [],
   "source": [
    "# save the structure and properties\n",
    "from ase.io import write\n",
    "\n",
    "write('mp-2878.cif', atoms)"
   ]
  }
 ],
 "metadata": {
  "kernelspec": {
   "display_name": "base",
   "language": "python",
   "name": "python3"
  },
  "language_info": {
   "codemirror_mode": {
    "name": "ipython",
    "version": 3
   },
   "file_extension": ".py",
   "mimetype": "text/x-python",
   "name": "python",
   "nbconvert_exporter": "python",
   "pygments_lexer": "ipython3",
   "version": "3.8.8"
  }
 },
 "nbformat": 4,
 "nbformat_minor": 2
}
