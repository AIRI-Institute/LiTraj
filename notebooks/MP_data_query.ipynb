{
 "cells": [
  {
   "cell_type": "markdown",
   "metadata": {},
   "source": [
    "#### Upload structures from the Materials Project"
   ]
  },
  {
   "cell_type": "code",
   "execution_count": null,
   "metadata": {},
   "outputs": [],
   "source": [
    "!pip install mp_api"
   ]
  },
  {
   "cell_type": "code",
   "execution_count": null,
   "metadata": {},
   "outputs": [],
   "source": [
    "from mp_api.client import MPRester"
   ]
  },
  {
   "cell_type": "code",
   "execution_count": null,
   "metadata": {},
   "outputs": [],
   "source": [
    "# https://api.materialsproject.org/docs#/Summary/search_summary__get\n",
    "api_key = 'your_api_key'\n",
    "with MPRester(api_key) as mpr:\n",
    "    docs = mpr.materials.summary.search(\n",
    "                              fields = [\n",
    "                                        'structure',\n",
    "                                        'material_id',\n",
    "                                        'nsites',\n",
    "                                        'elements',\n",
    "                                        'nelements',\n",
    "                                        'composition',\n",
    "                                        'composition_reduced',\n",
    "                                        'formula_pretty',\n",
    "                                        'chemsys',\n",
    "                                        'volume',\n",
    "                                        'symmetry',\n",
    "                                        'last_updated',\n",
    "                                        'energy_above_hull',\n",
    "                                        'is_stable',\n",
    "                                        'band_gap',\n",
    "                                        'is_magnetic',\n",
    "                                        ],\n",
    "                              exclude_elements = ['H'],\n",
    "                              volume = (0, 1500),\n",
    "                              is_metal = False,\n",
    "                              possible_species = ['Li+'],\n",
    ")\n"
   ]
  }
 ],
 "metadata": {
  "kernelspec": {
   "display_name": "base",
   "language": "python",
   "name": "python3"
  },
  "language_info": {
   "codemirror_mode": {
    "name": "ipython",
    "version": 3
   },
   "file_extension": ".py",
   "mimetype": "text/x-python",
   "name": "python",
   "nbconvert_exporter": "python",
   "pygments_lexer": "ipython3",
   "version": "3.8.8"
  }
 },
 "nbformat": 4,
 "nbformat_minor": 2
}
