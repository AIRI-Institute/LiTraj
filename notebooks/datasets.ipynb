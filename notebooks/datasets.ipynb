{
 "cells": [
  {
   "cell_type": "markdown",
   "metadata": {},
   "source": [
    "### Available datasets"
   ]
  },
  {
   "cell_type": "code",
   "execution_count": 2,
   "metadata": {},
   "outputs": [
    {
     "data": {
      "text/plain": [
       "{'BVEL13k': 'https://bs3u.obs.ru-moscow-1.hc.sbercloud.ru/litraj/BVEL13k.zip',\n",
       " 'MPLiTrj': 'https://bs3u.obs.ru-moscow-1.hc.sbercloud.ru/litraj/MPLiTrj.zip',\n",
       " 'nebDFT2k': 'https://bs3u.obs.ru-moscow-1.hc.sbercloud.ru/litraj/nebDFT2k.zip',\n",
       " 'nebBVSE122k': 'https://bs3u.obs.ru-moscow-1.hc.sbercloud.ru/litraj/nebBVSE122k.zip',\n",
       " 'MPLiTrj_subsample': 'https://bs3u.obs.ru-moscow-1.hc.sbercloud.ru/litraj/MPLiTrj_subsample.zip',\n",
       " 'MPLiTrj_raw': 'https://bs3u.obs.ru-moscow-1.hc.sbercloud.ru/litraj/MPLiTrj_raw.zip'}"
      ]
     },
     "execution_count": 2,
     "metadata": {},
     "output_type": "execute_result"
    }
   ],
   "source": [
    "from litraj.data import available_datasets\n",
    "available_datasets()"
   ]
  },
  {
   "cell_type": "markdown",
   "metadata": {},
   "source": [
    "### nebDFT2k"
   ]
  },
  {
   "cell_type": "code",
   "execution_count": 3,
   "metadata": {},
   "outputs": [
    {
     "name": "stderr",
     "output_type": "stream",
     "text": [
      "Downloading ./nebDFT2k.zip: 100%|██████████| 65.4M/65.4M [00:01<00:00, 44.2MB/s]\n",
      "Extracting: 100%|██████████| 3365/3365 [00:02<00:00, 1297.56it/s]\n"
     ]
    }
   ],
   "source": [
    "from litraj.data import download_dataset, load_data\n",
    "download_dataset('nebDFT2k', '.') # save to the current folder"
   ]
  },
  {
   "cell_type": "code",
   "execution_count": 4,
   "metadata": {},
   "outputs": [
    {
     "name": "stderr",
     "output_type": "stream",
     "text": [
      "loading trajectories: 100%|██████████| 1681/1681 [00:30<00:00, 55.99it/s]\n",
      "loading centroids: 100%|██████████| 1681/1681 [00:00<00:00, 2281.68it/s]\n"
     ]
    },
    {
     "data": {
      "text/plain": [
       "Index(['material_id', 'edge_id', 'chemsys', 'has_specific_TM', 'em_bvse',\n",
       "       'em_dft', '_split', 'trajectory_init', 'trajectory_relaxed',\n",
       "       'centroid'],\n",
       "      dtype='object')"
      ]
     },
     "execution_count": 4,
     "metadata": {},
     "output_type": "execute_result"
    }
   ],
   "source": [
    "data = load_data('nebDFT2k', '.')\n",
    "data.columns"
   ]
  },
  {
   "cell_type": "code",
   "execution_count": null,
   "metadata": {},
   "outputs": [],
   "source": [
    "# trajectories\n",
    "data_train = data[data['_split'] == 'train']\n",
    "for traj_init, traj_relaxed in zip(data_train.trajectory_init,  data_train.trajectory_relaxed):\n",
    "    energy_profile = [atoms.get_potential_energy() for atoms in traj_relaxed]\n",
    "    # do stuff"
   ]
  },
  {
   "cell_type": "code",
   "execution_count": 5,
   "metadata": {},
   "outputs": [],
   "source": [
    "# centroids\n",
    "data_train = data[data['_split'] == 'train']\n",
    "centroids_train = data['centroid']\n",
    "em_train = data['em_dft']"
   ]
  },
  {
   "cell_type": "markdown",
   "metadata": {},
   "source": [
    "### MPLiTrj and MPLiTrj_subsample"
   ]
  },
  {
   "cell_type": "code",
   "execution_count": 9,
   "metadata": {},
   "outputs": [
    {
     "name": "stderr",
     "output_type": "stream",
     "text": [
      "Downloading ./MPLiTrj_subsample.zip: 100%|██████████| 492M/492M [00:14<00:00, 36.4MB/s] \n",
      "Extracting: 100%|██████████| 4/4 [00:08<00:00,  2.01s/it]\n"
     ]
    }
   ],
   "source": [
    "from litraj.data import download_dataset, load_data\n",
    "\n",
    "download_dataset('MPLiTrj_subsample', folder = '.')"
   ]
  },
  {
   "cell_type": "code",
   "execution_count": 3,
   "metadata": {},
   "outputs": [
    {
     "name": "stderr",
     "output_type": "stream",
     "text": [
      "loading train: 100%|██████████| 94044/94044 [01:16<00:00, 1233.77it/s]\n",
      "loading val: 100%|██████████| 12249/12249 [00:10<00:00, 1116.59it/s]\n",
      "loading test: 100%|██████████| 11731/11731 [00:09<00:00, 1246.79it/s]\n"
     ]
    }
   ],
   "source": [
    "train, val, test = load_data('MPLiTrj_subsample', folder = '.')"
   ]
  },
  {
   "cell_type": "code",
   "execution_count": 9,
   "metadata": {},
   "outputs": [],
   "source": [
    "structures_train, energies_train, forces_train, stresses_train = [], [], [], []\n",
    "for atoms in train:\n",
    "    structures_train.append(atoms)\n",
    "    energies_train.append(atoms.calc.get_potential_energy())\n",
    "    forces_train.append(atoms.calc.get_forces().tolist())\n",
    "    stresses_train.append(atoms.calc.get_stress().tolist())"
   ]
  },
  {
   "cell_type": "markdown",
   "metadata": {},
   "source": [
    "### BVEL13k"
   ]
  },
  {
   "cell_type": "code",
   "execution_count": 1,
   "metadata": {},
   "outputs": [
    {
     "name": "stderr",
     "output_type": "stream",
     "text": [
      "Downloading ./BVEL13k.zip: 100%|██████████| 10.2M/10.2M [00:00<00:00, 20.8MB/s]\n",
      "Extracting: 100%|██████████| 5/5 [00:00<00:00, 31.19it/s]\n"
     ]
    }
   ],
   "source": [
    "from litraj.data import download_dataset, load_data\n",
    "\n",
    "download_dataset('BVEL13k', folder = '.') # save to the current formula"
   ]
  },
  {
   "cell_type": "code",
   "execution_count": 2,
   "metadata": {},
   "outputs": [
    {
     "name": "stderr",
     "output_type": "stream",
     "text": [
      "loading train: 100%|██████████| 10159/10159 [00:02<00:00, 3468.24it/s]\n",
      "loading val  : 100%|██████████| 1331/1331 [00:00<00:00, 3526.68it/s]\n",
      "loading test : 100%|██████████| 1317/1317 [00:00<00:00, 3743.25it/s]\n"
     ]
    }
   ],
   "source": [
    "atoms_list_train, atoms_list_val, atoms_list_test, index = load_data('BVEL13k', '.')\n",
    "\n",
    "for atoms in atoms_list_train: # the data is stored in the Ase's Atoms object\n",
    "    mp_id = atoms.info['material_id']\n",
    "    e1d = atoms.info['E_1D']\n",
    "    e2d = atoms.info['E_2D']\n",
    "    e3d = atoms.info['E_3D']\n",
    "    # do stuff"
   ]
  },
  {
   "cell_type": "markdown",
   "metadata": {},
   "source": [
    "### nebBVSE122k"
   ]
  },
  {
   "cell_type": "code",
   "execution_count": 3,
   "metadata": {},
   "outputs": [
    {
     "name": "stderr",
     "output_type": "stream",
     "text": [
      "Downloading ./nebBVSE122k.zip: 100%|██████████| 191M/191M [00:08<00:00, 24.2MB/s] \n",
      "Extracting: 100%|██████████| 5/5 [00:03<00:00,  1.55it/s]\n"
     ]
    }
   ],
   "source": [
    "from litraj.data import download_dataset, load_data\n",
    "\n",
    "download_dataset('nebBVSE122k', folder = '.')"
   ]
  },
  {
   "cell_type": "code",
   "execution_count": 6,
   "metadata": {},
   "outputs": [
    {
     "name": "stderr",
     "output_type": "stream",
     "text": [
      "loading train: 100%|██████████| 96849/96849 [00:42<00:00, 2257.13it/s]\n",
      "loading val  : 100%|██████████| 12405/12405 [00:05<00:00, 2200.42it/s]\n",
      "loading test : 100%|██████████| 13167/13167 [00:05<00:00, 2202.88it/s]\n"
     ]
    }
   ],
   "source": [
    "from litraj.data import load_data\n",
    "import numpy as np\n",
    "atoms_list_train, atoms_list_val, atoms_list_test, index = load_data('nebBVSE122k', folder = '.')\n",
    "\n",
    "for atoms_with_centroid in atoms_list_train:\n",
    "    edge_id = atoms_with_centroid.info['edge_id']   # mp-id_source_target_offsetx_offsety_offsetz\n",
    "    mp_id = atoms_with_centroid.info['material_id']\n",
    "    em = atoms_with_centroid.info['em']\n",
    "    centroid_index = np.argwhere(atoms_with_centroid.symbols =='X') # should be the last one\n",
    "    # do stuff"
   ]
  }
 ],
 "metadata": {
  "kernelspec": {
   "display_name": "base",
   "language": "python",
   "name": "python3"
  },
  "language_info": {
   "codemirror_mode": {
    "name": "ipython",
    "version": 3
   },
   "file_extension": ".py",
   "mimetype": "text/x-python",
   "name": "python",
   "nbconvert_exporter": "python",
   "pygments_lexer": "ipython3",
   "version": "3.8.8"
  }
 },
 "nbformat": 4,
 "nbformat_minor": 2
}
