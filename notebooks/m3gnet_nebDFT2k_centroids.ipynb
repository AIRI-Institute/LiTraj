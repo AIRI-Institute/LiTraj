{
 "cells": [
  {
   "cell_type": "code",
   "execution_count": null,
   "id": "6cf5fcdf-2af4-4226-876d-dec822c79526",
   "metadata": {},
   "outputs": [],
   "source": [
    "import os\n",
    "from tqdm import tqdm\n",
    "from functools import partial\n",
    "from pymatgen.io.ase import AseAtomsAdaptor\n",
    "from matgl.graph.data import MGLDataset, MGLDataLoader\n",
    "from matgl.ext.pymatgen import Structure2Graph, get_element_list\n",
    "from matgl.graph.data import collate_fn_graph\n",
    "from matgl.utils.training import ModelLightningModule\n",
    "from matgl.models import M3GNet\n",
    "import torch"
   ]
  },
  {
   "cell_type": "code",
   "execution_count": null,
   "id": "7b2bd073-609a-48b2-b4fe-5be79764d102",
   "metadata": {},
   "outputs": [],
   "source": [
    "!mkdir data"
   ]
  },
  {
   "cell_type": "code",
   "execution_count": null,
   "id": "8635a3b2-5822-418e-995e-0eb195b31d88",
   "metadata": {},
   "outputs": [],
   "source": [
    "from litraj.data import download_dataset, load_data\n",
    "\n",
    "dataset_name = 'nebDFT2k'\n",
    "download_dataset(dataset_name, 'data')"
   ]
  },
  {
   "cell_type": "code",
   "execution_count": null,
   "id": "5171ec11-1572-4ccf-ac57-5c02064ba155",
   "metadata": {},
   "outputs": [],
   "source": [
    "index = load_data(dataset_name, 'data')\n",
    "atoms_list_train = index[index._split == 'train'].centroid\n",
    "atoms_list_val = index[index._split == 'val'].centroid\n",
    "atoms_list_test = index[index._split == 'test'].centroid\n",
    "\n",
    "edge_ids_train = [st.info['edge_id'] for st in atoms_list_train]\n",
    "edge_ids_val = [st.info['edge_id'] for st in atoms_list_val]\n",
    "edge_ids_test = [st.info['edge_id'] for st in atoms_list_test]\n",
    "\n",
    "# for nebBVSE122k, use\n",
    "# atoms_list_train, atoms_list_val, atoms_list_test, index = load_dataset('nebBVSE122k', 'data')\n"
   ]
  },
  {
   "cell_type": "code",
   "execution_count": null,
   "id": "b731281d-a737-4d58-8b1e-a5c8105a92fc",
   "metadata": {},
   "outputs": [],
   "source": [
    "sts_pmg_train = []\n",
    "targets_train = []\n",
    "for st in tqdm(atoms_list_train):\n",
    "    st = st.copy()\n",
    "    # M3GNet cannot process element 'X'. We replace it with 'H' because it does not exist in the data\n",
    "    st.numbers[-1] = 1\n",
    "    sts_pmg_train.append(AseAtomsAdaptor.get_structure(st))\n",
    "    targets_train.append(st.info['em'])\n",
    "\n",
    "sts_pmg_val = []\n",
    "targets_val = []\n",
    "for st in tqdm(atoms_list_val):\n",
    "    st = st.copy()\n",
    "    st.numbers[-1] = 1\n",
    "    sts_pmg_val.append(AseAtomsAdaptor.get_structure(st))\n",
    "    targets_val.append(st.info['em'])\n",
    "    \n",
    "\n",
    "sts_pmg_test = []\n",
    "targets_test = []\n",
    "for st in tqdm(atoms_list_test):\n",
    "    st = st.copy()\n",
    "    st.numbers[-1] = 1\n",
    "    sts_pmg_test.append(AseAtomsAdaptor.get_structure(st))\n",
    "    targets_test.append(st.info['em'])"
   ]
  },
  {
   "cell_type": "code",
   "execution_count": null,
   "id": "84d26912-a1c3-4fe4-91de-c1a72021a3c7",
   "metadata": {},
   "outputs": [],
   "source": [
    "labels_train = {\n",
    "    \"energies\": targets_train,\n",
    "}\n",
    "labels_val = {\n",
    "    \"energies\": targets_val,\n",
    "}\n",
    "labels_test = {\n",
    "    \"energies\": targets_test,\n",
    "}"
   ]
  },
  {
   "cell_type": "code",
   "execution_count": null,
   "id": "ce174dad-e21c-499b-88f1-35f129c036d5",
   "metadata": {},
   "outputs": [],
   "source": [
    "elem_list = get_element_list(sts_pmg_train)\n",
    "converter = Structure2Graph(element_types=elem_list, cutoff=5.0)"
   ]
  },
  {
   "cell_type": "code",
   "execution_count": null,
   "id": "56bb613b-dfe7-44f3-9015-d345e2a25df5",
   "metadata": {},
   "outputs": [],
   "source": [
    "folder = './m3gnet_centroids/nebDFT2k'\n",
    "\n",
    "_from = 'train'\n",
    "os.makedirs(f'{folder}/{_from}', exist_ok = True)\n",
    "train_data = MGLDataset(\n",
    "                        threebody_cutoff=4.0,\n",
    "                        structures = sts_pmg_train,\n",
    "                        converter = converter,\n",
    "                        labels=labels_train,\n",
    "                        include_line_graph=True,\n",
    "                        filename=f'dgl_graph.bin',\n",
    "                        filename_lattice=f'lattice.pt',\n",
    "                        filename_line_graph=f'dgl_line_graph.bin',\n",
    "                        filename_state_attr=f'state_attr.pt',\n",
    "                        filename_labels=f'labels.json',\n",
    "                        name=f'MGLDataset_{dataset_name}_{_from}',\n",
    "                        save_dir = f'{folder}/{_from}'\n",
    "                        )\n",
    "\n",
    "_from = 'val'\n",
    "os.makedirs(f'{folder}/{_from}', exist_ok = True)\n",
    "val_data = MGLDataset(\n",
    "                        threebody_cutoff=4.0,\n",
    "                        structures = sts_pmg_val,\n",
    "                        converter = converter,\n",
    "                        labels=labels_val,\n",
    "                        include_line_graph=True,\n",
    "                        filename=f'dgl_graph.bin',\n",
    "                        filename_lattice=f'lattice.pt',\n",
    "                        filename_line_graph=f'dgl_line_graph.bin',\n",
    "                        filename_state_attr=f'state_attr.pt',\n",
    "                        filename_labels=f'labels.json',\n",
    "                        name=f'MGLDataset_{dataset_name}_{_from}',\n",
    "                        save_dir = f'{folder}/{_from}'\n",
    "                        )\n",
    "\n",
    "_from = 'test'\n",
    "os.makedirs(f'{folder}/{_from}', exist_ok = True)\n",
    "test_data = MGLDataset(\n",
    "                        threebody_cutoff=4.0,\n",
    "                        structures = sts_pmg_test,\n",
    "                        converter = converter,\n",
    "                        labels=labels_test,\n",
    "                        include_line_graph=True,\n",
    "                        filename=f'dgl_graph.bin',\n",
    "                        filename_lattice=f'lattice.pt',\n",
    "                        filename_line_graph=f'dgl_line_graph.bin',\n",
    "                        filename_state_attr=f'state_attr.pt',\n",
    "                        filename_labels=f'labels.json',\n",
    "                        name=f'MGLDataset_{dataset_name}_{_from}',\n",
    "                        save_dir = f'{folder}/{_from}'\n",
    "                        )\n"
   ]
  },
  {
   "cell_type": "code",
   "execution_count": null,
   "id": "0c4c7fee-b4b9-40d3-b824-ecc6752a7a4b",
   "metadata": {},
   "outputs": [],
   "source": [
    "l_g_collate_fn = partial(collate_fn_graph, include_line_graph=True)\n",
    "train_loader, val_loader, test_loader = MGLDataLoader(\n",
    "    train_data=train_data,\n",
    "    val_data=val_data,\n",
    "    test_data=test_data,\n",
    "    collate_fn=l_g_collate_fn,\n",
    "    batch_size=64,\n",
    "    #num_workers=0,\n",
    ")"
   ]
  },
  {
   "cell_type": "code",
   "execution_count": null,
   "id": "0be815bc-b5bf-4fda-8545-c19f7dc1a375",
   "metadata": {},
   "outputs": [],
   "source": [
    "model = M3GNet(element_types=elem_list,\n",
    "               is_intensive=False,\n",
    "               readout_type=\"set2set\"\n",
    "              )"
   ]
  },
  {
   "cell_type": "code",
   "execution_count": null,
   "id": "ebc36769-a13c-447a-a614-4420286859a5",
   "metadata": {},
   "outputs": [],
   "source": [
    "lit_module = ModelLightningModule(model=model, include_line_graph=True,\n",
    "                                  loss=\"mse_loss\",\n",
    "                                  lr=1e-3,\n",
    "                                  decay_steps=250,\n",
    "                                  decay_alpha=0.01)"
   ]
  },
  {
   "cell_type": "code",
   "execution_count": null,
   "id": "0df8e0ac-b236-43a8-9db4-8e3e13d11fba",
   "metadata": {},
   "outputs": [],
   "source": [
    "from lightning.pytorch import Trainer\n",
    "from lightning.pytorch.loggers import CSVLogger\n",
    "from lightning.pytorch.callbacks import ModelCheckpoint\n",
    "\n",
    "checkpoint_callback = ModelCheckpoint(\n",
    "    dirpath=\"checkpoints\",\n",
    "    filename=\"best-{epoch}-{val_RMSE:.4f}\",\n",
    "    monitor=\"val_RMSE\",\n",
    "    mode=\"min\",\n",
    "    save_top_k=3,\n",
    "    save_last=True,\n",
    ")\n",
    "\n",
    "\n",
    "logger = CSVLogger(\"logs\", name=\"M3GNet_centroids_nebDFT2k\")\n",
    "trainer = Trainer(max_epochs=30,\n",
    "                  accelerator=\"gpu\",\n",
    "                  logger=logger,\n",
    "                  inference_mode=False,\n",
    "                  callbacks=[checkpoint_callback]\n",
    "                 )\n",
    "trainer.fit(model=lit_module, train_dataloaders=train_loader,\n",
    "            val_dataloaders=val_loader,\n",
    "           )"
   ]
  },
  {
   "cell_type": "code",
   "execution_count": null,
   "id": "fcfe2601-118a-41b3-bc55-8e91c4d6dc2f",
   "metadata": {},
   "outputs": [],
   "source": [
    "os.listdir('checkpoints')"
   ]
  },
  {
   "cell_type": "code",
   "execution_count": null,
   "id": "c91cd57e-e438-4b7b-90f5-8a2dffd8c0ba",
   "metadata": {},
   "outputs": [],
   "source": [
    "device = torch.device(\"cuda\")\n",
    "inference_model = M3GNet(element_types=elem_list,\n",
    "               is_intensive=False,\n",
    "               readout_type=\"set2set\"\n",
    "              )\n",
    "\n",
    "\n",
    "model_path = \"checkpoints/best-epoch=28-val_RMSE=0.5779.ckpt\"\n",
    "inference_lit_module = ModelLightningModule.load_from_checkpoint(model_path, \n",
    "                                                                 model=inference_model,\n",
    "                                                                 map_location=device\n",
    "                                                                )\n",
    "inference_lit_module.to(device)"
   ]
  },
  {
   "cell_type": "code",
   "execution_count": null,
   "id": "3a0147fa-fb43-47c0-9efd-a699bbefd9f9",
   "metadata": {},
   "outputs": [],
   "source": [
    "import numpy as np\n",
    "\n",
    "inference_lit_module.eval()\n",
    "energy_pred = []\n",
    "energy_true = []\n",
    "sizes = []\n",
    "for g, lat, l_g, state_attr, e in tqdm(test_loader):\n",
    "    with torch.no_grad():\n",
    "        e_pred = inference_lit_module(g=g.to(device), lat=lat.to(device), l_g=l_g.to(device), state_attr=state_attr.to(device))\n",
    "        sizes.append(g.num_nodes())\n",
    "        energy_true.extend(e.detach().cpu().numpy())\n",
    "        energy_pred.extend(e_pred.detach().cpu().numpy())\n",
    "\n",
    "\n",
    "energy_true = np.array(energy_true)\n",
    "energy_pred = np.array(energy_pred)"
   ]
  },
  {
   "cell_type": "code",
   "execution_count": null,
   "id": "18bfdc28-a59c-4f90-aba2-1f3d6544b17c",
   "metadata": {},
   "outputs": [],
   "source": [
    "from litraj.metrics import get_metrics\n",
    "get_metrics(energy_true, energy_pred)"
   ]
  }
 ],
 "metadata": {
  "kernelspec": {
   "display_name": "ml_env",
   "language": "python",
   "name": "ml_env"
  },
  "language_info": {
   "codemirror_mode": {
    "name": "ipython",
    "version": 3
   },
   "file_extension": ".py",
   "mimetype": "text/x-python",
   "name": "python",
   "nbconvert_exporter": "python",
   "pygments_lexer": "ipython3",
   "version": "3.12.2"
  }
 },
 "nbformat": 4,
 "nbformat_minor": 5
}
